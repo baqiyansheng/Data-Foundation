{
 "cells": [
  {
   "cell_type": "code",
   "execution_count": 7,
   "metadata": {},
   "outputs": [],
   "source": [
    "import pandas as pd\n",
    "import numpy as np\n",
    "from sklearn.model_selection import train_test_split, cross_val_score\n",
    "from sklearn.metrics import accuracy_score, precision_score, recall_score, f1_score\n",
    "from xgboost import XGBClassifier"
   ]
  },
  {
   "cell_type": "code",
   "execution_count": 8,
   "metadata": {},
   "outputs": [
    {
     "name": "stderr",
     "output_type": "stream",
     "text": [
      "C:\\Users\\jy\\AppData\\Local\\Temp\\ipykernel_20352\\2463252460.py:9: DtypeWarning: Columns (3) have mixed types. Specify dtype option on import or set low_memory=False.\n",
      "  train_data = pd.read_csv('train.csv')\n",
      "C:\\Users\\jy\\AppData\\Local\\Temp\\ipykernel_20352\\2463252460.py:10: DtypeWarning: Columns (3) have mixed types. Specify dtype option on import or set low_memory=False.\n",
      "  test_data = pd.read_csv('test.csv')\n"
     ]
    }
   ],
   "source": [
    "def onehotmodel(data):\n",
    "    num_col = data.select_dtypes(include=[np.number])\n",
    "    non_num_col = data.select_dtypes(exclude=[np.number])\n",
    "    onehotnum = pd.get_dummies(non_num_col)\n",
    "    data = pd.concat([num_col, onehotnum], axis=1)\n",
    "    return data\n",
    "\n",
    "\n",
    "train_data = pd.read_csv('train.csv')\n",
    "test_data = pd.read_csv('test.csv')\n",
    "test_CUST_ID = test_data['CUST_ID']\n",
    "train_data_target = train_data['bad_good']\n",
    "train_data.drop(['bad_good'], axis=1, inplace=True)\n",
    "dropcols = [\n",
    "    \"OPEN_ORG_NUM\", \"IDF_TYP_CD\", \"GENDER\", \"CUST_EUP_ACCT_FLAG\",\n",
    "    \"CUST_AU_ACCT_FLAG\", \"CUST_SALARY_FINANCIAL_FLAG\",\n",
    "    \"CUST_SOCIAL_SECURITYIC_FLAG\", \"CUST_MTFLOW_FLAG\", \"CUST_DOLLER_FLAG\",\n",
    "    \"CUST_INTERNATIONAL_GOLD_FLAG\", \"CUST_INTERNATIONAL_GOLD_FLAG\",\n",
    "    \"CUST_INTERNATIONAL_SIL_FLAG\", \"CUST_INTERNATIONAL_DIAMOND_FLAG\",\n",
    "    \"CUST_GOLD_COMMON_FLAG\", \"CUST_STAD_PLATINUM_FLAG\",\n",
    "    \"CUST_LUXURY_PLATINUM_FLAG\", \"CUST_PLATINUM_FINANCIAL_FLAG\",\n",
    "    \"CUST_DIAMOND_FLAG\", \"CUST_INFINIT_FLAG\", \"CUST_BUSINESS_FLAG\"\n",
    "]\n",
    "train_data.drop(dropcols, axis=1, inplace=True)\n",
    "test_data.drop(dropcols, axis=1, inplace=True)\n",
    "train_data = train_data.drop_duplicates(keep=\"first\")\n",
    "train_data.dropna(inplace=True)\n",
    "train_data = onehotmodel(train_data)\n",
    "test_data = onehotmodel(test_data)\n",
    "x_train, x_test, y_train, y_test = train_test_split(train_data,\n",
    "                                                    train_data_target,\n",
    "                                                    test_size=0.2,\n",
    "                                                    random_state=42)"
   ]
  },
  {
   "cell_type": "code",
   "execution_count": 12,
   "metadata": {},
   "outputs": [
    {
     "name": "stdout",
     "output_type": "stream",
     "text": [
      "验证数据的准确率:  0.9999649473333684\n",
      "验证数据的精确率  0.9978540772532188\n",
      "验证数据的召回率  1.0\n",
      "验证数据的F1值  0.9989258861439313\n"
     ]
    }
   ],
   "source": [
    "XGB = XGBClassifier(learning_rate=0.08,\n",
    "                    n_estimators=50,\n",
    "                    max_depth=5,\n",
    "                    gamma=0,\n",
    "                    subsample=0.9,\n",
    "                    colsample_bytree=0.5)\n",
    "model = XGB.fit(x_train, y_train)\n",
    "y_pred = model.predict(x_test)\n",
    "print(\"验证数据的准确率: \", accuracy_score(y_test, y_pred))\n",
    "print(\"验证数据的精确率 \", precision_score(y_test, y_pred))\n",
    "print(\"验证数据的召回率 \", recall_score(y_test, y_pred))\n",
    "print(\"验证数据的F1值 \", f1_score(y_test, y_pred))\n",
    "test_pred = model.predict(test_data)\n",
    "test_pred = pd.DataFrame(test_pred, columns=['bad_good'])\n",
    "sub = pd.concat([test_CUST_ID, test_pred], axis=1)\n",
    "sub.to_csv('submission.csv')"
   ]
  }
 ],
 "metadata": {
  "kernelspec": {
   "display_name": "Python 3",
   "language": "python",
   "name": "python3"
  },
  "language_info": {
   "codemirror_mode": {
    "name": "ipython",
    "version": 3
   },
   "file_extension": ".py",
   "mimetype": "text/x-python",
   "name": "python",
   "nbconvert_exporter": "python",
   "pygments_lexer": "ipython3",
   "version": "3.9.13"
  }
 },
 "nbformat": 4,
 "nbformat_minor": 2
}

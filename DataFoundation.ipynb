{
 "cells": [
  {
   "cell_type": "code",
   "execution_count": 1,
   "metadata": {},
   "outputs": [],
   "source": [
    "import pandas as pd\n",
    "import numpy as np\n",
    "from sklearn.model_selection import train_test_split, cross_val_score\n",
    "from sklearn.metrics import accuracy_score, precision_score, recall_score, f1_score"
   ]
  },
  {
   "cell_type": "code",
   "execution_count": 2,
   "metadata": {},
   "outputs": [],
   "source": [
    "proccessed = True\n",
    "\n",
    "\n",
    "def onehotmodel(data):\n",
    "    num_col = data.select_dtypes(include=[np.number])  # 数值型数据的列数\n",
    "    non_num_col = data.select_dtypes(exclude=[np.number])  # 非数值型数据的列数\n",
    "    onehotnum = pd.get_dummies(non_num_col)  # 对非数值型数据进行独热编码\n",
    "    data = pd.concat([num_col, onehotnum], axis=1)  # 拼接数据\n",
    "    return data\n",
    "\n",
    "\n",
    "# 避免重复处理数据\n",
    "if (proccessed):\n",
    "    train_data = pd.read_csv('train_processed.csv')\n",
    "    test_data = pd.read_csv('test_processed.csv')\n",
    "else:\n",
    "    train_data = pd.read_csv('train.csv')\n",
    "    test_data = pd.read_csv('test.csv')\n",
    "    dropcols = [\n",
    "        \"OPEN_ORG_NUM\", \"IDF_TYP_CD\", \"GENDER\", \"CUST_EUP_ACCT_FLAG\",\n",
    "        \"CUST_AU_ACCT_FLAG\", \"CUST_SALARY_FINANCIAL_FLAG\",\n",
    "        \"CUST_SOCIAL_SECURITYIC_FLAG\", \"CUST_MTFLOW_FLAG\", \"CUST_DOLLER_FLAG\",\n",
    "        \"CUST_INTERNATIONAL_GOLD_FLAG\", \"CUST_INTERNATIONAL_GOLD_FLAG\",\n",
    "        \"CUST_INTERNATIONAL_SIL_FLAG\", \"CUST_INTERNATIONAL_DIAMOND_FLAG\",\n",
    "        \"CUST_GOLD_COMMON_FLAG\", \"CUST_STAD_PLATINUM_FLAG\",\n",
    "        \"CUST_LUXURY_PLATINUM_FLAG\", \"CUST_PLATINUM_FINANCIAL_FLAG\",\n",
    "        \"CUST_DIAMOND_FLAG\", \"CUST_INFINIT_FLAG\", \"CUST_BUSINESS_FLAG\"\n",
    "    ]\n",
    "    # 删除无用的行\n",
    "    train_data.drop(dropcols, axis=1, inplace=True)\n",
    "    test_data.drop(dropcols, axis=1, inplace=True)\n",
    "    # 删除重复行\n",
    "    train_data = train_data.drop_duplicates(keep=\"first\")\n",
    "    train_data.dropna(inplace=True)\n",
    "    # 保存处理后的数据\n",
    "    train_data.to_csv(\"train_processed.csv\")\n",
    "    test_data.to_csv(\"test_processed.csv\")\n",
    "# 提取训练集的bad_good\n",
    "train_data_target = train_data['bad_good']\n",
    "# 提取测试集的CUST_ID\n",
    "test_CUST_ID = test_data['CUST_ID']\n",
    "# 删除训练集中的bad_good列\n",
    "train_data.drop(['bad_good'], axis=1, inplace=True)\n",
    "# 独热编码\n",
    "train_data = onehotmodel(train_data)\n",
    "test_data = onehotmodel(test_data)\n",
    "# 划分训练集、验证集\n",
    "x_train, x_test, y_train, y_test = train_test_split(train_data,\n",
    "                                                    train_data_target,\n",
    "                                                    test_size=0.1,\n",
    "                                                    random_state=42)"
   ]
  },
  {
   "cell_type": "code",
   "execution_count": 3,
   "metadata": {},
   "outputs": [
    {
     "name": "stdout",
     "output_type": "stream",
     "text": [
      "XGB验证数据的准确率:  1.0\n",
      "XGB验证数据的精确率  1.0\n",
      "XGB验证数据的召回率  1.0\n",
      "XGB验证数据的F1值  1.0\n"
     ]
    }
   ],
   "source": [
    "from xgboost import XGBClassifier\n",
    "XGB = XGBClassifier(learning_rate=0.08,\n",
    "                    n_estimators=50,\n",
    "                    max_depth=5,\n",
    "                    gamma=0,\n",
    "                    subsample=0.9,\n",
    "                    colsample_bytree=0.5)\n",
    "model = XGB.fit(x_train, y_train)\n",
    "y_pred = model.predict(x_test)\n",
    "print(\"XGB验证数据的准确率: \", accuracy_score(y_test, y_pred))\n",
    "print(\"XGB验证数据的精确率 \", precision_score(y_test, y_pred))\n",
    "print(\"XGB验证数据的召回率 \", recall_score(y_test, y_pred))\n",
    "print(\"XGB验证数据的F1值 \", f1_score(y_test, y_pred))\n",
    "test_pred = model.predict(test_data)\n",
    "test_pred = pd.DataFrame(test_pred, columns=['bad_good'])\n",
    "sub = pd.concat([test_CUST_ID, test_pred], axis=1)\n",
    "sub.to_csv('XGB_submission.csv')"
   ]
  },
  {
   "cell_type": "code",
   "execution_count": 4,
   "metadata": {},
   "outputs": [
    {
     "name": "stdout",
     "output_type": "stream",
     "text": [
      "ABC验证数据的准确率:  1.0\n",
      "ABC验证数据的精确率  1.0\n",
      "ABC验证数据的召回率  1.0\n",
      "ABC验证数据的F1值  1.0\n"
     ]
    }
   ],
   "source": [
    "from sklearn.ensemble import AdaBoostClassifier\n",
    "\n",
    "Ada = AdaBoostClassifier(random_state=42)  # adaboost\n",
    "abcmodel = Ada.fit(x_train, y_train)  # 拟合训练集\n",
    "y_pred = abcmodel.predict(x_test)\n",
    "\n",
    "print(\"ABC验证数据的准确率: \", accuracy_score(y_test, y_pred))\n",
    "print(\"ABC验证数据的精确率 \", precision_score(y_test, y_pred))\n",
    "print(\"ABC验证数据的召回率 \", recall_score(y_test, y_pred))\n",
    "print(\"ABC验证数据的F1值 \", f1_score(y_test, y_pred))\n",
    "test_pred = abcmodel.predict(test_data)\n",
    "test_pred = pd.DataFrame(test_pred, columns=['bad_good'])\n",
    "sub = pd.concat([test_CUST_ID, test_pred], axis=1)\n",
    "sub.to_csv('Ada_submission.csv')"
   ]
  },
  {
   "cell_type": "code",
   "execution_count": 3,
   "metadata": {},
   "outputs": [
    {
     "name": "stdout",
     "output_type": "stream",
     "text": [
      "GBDT验证数据的准确率:  1.0\n",
      "GBDT验证数据的精确率  1.0\n",
      "GBDT验证数据的召回率  1.0\n",
      "GBDT验证数据的F1值  1.0\n"
     ]
    }
   ],
   "source": [
    "from sklearn.ensemble import GradientBoostingClassifier\n",
    "\n",
    "gbdt = GradientBoostingClassifier(random_state=42)  # gbdt\n",
    "gbdtmodel = gbdt.fit(x_train, y_train)  # 拟合训练集\n",
    "y_pred = gbdtmodel.predict(x_test)\n",
    "print(\"GBDT验证数据的准确率: \", accuracy_score(y_test, y_pred))\n",
    "print(\"GBDT验证数据的精确率 \", precision_score(y_test, y_pred))\n",
    "print(\"GBDT验证数据的召回率 \", recall_score(y_test, y_pred))\n",
    "print(\"GBDT验证数据的F1值 \", f1_score(y_test, y_pred))\n",
    "test_pred = gbdtmodel.predict(test_data)\n",
    "test_pred = pd.DataFrame(test_pred, columns=['bad_good'])\n",
    "sub = pd.concat([test_CUST_ID, test_pred], axis=1)\n",
    "sub.to_csv('GBDT_submission.csv')"
   ]
  },
  {
   "cell_type": "code",
   "execution_count": 4,
   "metadata": {},
   "outputs": [
    {
     "name": "stdout",
     "output_type": "stream",
     "text": [
      "DTC验证数据的准确率:  1.0\n",
      "DTC验证数据的精确率  1.0\n",
      "DTC验证数据的召回率  1.0\n",
      "DTC验证数据的F1值  1.0\n"
     ]
    }
   ],
   "source": [
    "from sklearn.tree import DecisionTreeClassifier as DTC # 决策树\n",
    "dtc = DTC(random_state=42) # dtc\n",
    "dtcmodel = dtc.fit(x_train,y_train) # 拟合训练集\n",
    "y_pred = dtcmodel.predict(x_test)\n",
    "print(\"DTC验证数据的准确率: \", accuracy_score(y_test, y_pred))\n",
    "print(\"DTC验证数据的精确率 \", precision_score(y_test, y_pred))\n",
    "print(\"DTC验证数据的召回率 \", recall_score(y_test, y_pred))\n",
    "print(\"DTC验证数据的F1值 \", f1_score(y_test, y_pred))\n",
    "test_pred = dtcmodel.predict(test_data)\n",
    "test_pred = pd.DataFrame(test_pred, columns=['bad_good'])\n",
    "sub = pd.concat([test_CUST_ID, test_pred], axis=1)\n",
    "sub.to_csv('DTC_submission.csv')"
   ]
  },
  {
   "cell_type": "code",
   "execution_count": 3,
   "metadata": {},
   "outputs": [
    {
     "name": "stdout",
     "output_type": "stream",
     "text": [
      "RFC验证数据的准确率:  0.999894843843107\n",
      "RFC验证数据的精确率  1.0\n",
      "RFC验证数据的召回率  0.9933333333333333\n",
      "RFC验证数据的F1值  0.9966555183946488\n"
     ]
    }
   ],
   "source": [
    "from sklearn.ensemble import RandomForestClassifier as RFC # 随机森林\n",
    "\n",
    "rfc = RFC(random_state=42)  # dtc\n",
    "dtcmodel = rfc.fit(x_train, y_train)  # 拟合训练集\n",
    "y_pred = dtcmodel.predict(x_test)\n",
    "print(\"RFC验证数据的准确率: \", accuracy_score(y_test, y_pred))\n",
    "print(\"RFC验证数据的精确率 \", precision_score(y_test, y_pred))\n",
    "print(\"RFC验证数据的召回率 \", recall_score(y_test, y_pred))\n",
    "print(\"RFC验证数据的F1值 \", f1_score(y_test, y_pred))\n",
    "test_pred = dtcmodel.predict(test_data)\n",
    "test_pred = pd.DataFrame(test_pred, columns=['bad_good'])\n",
    "sub = pd.concat([test_CUST_ID, test_pred], axis=1)\n",
    "sub.to_csv('RFC_submission.csv')"
   ]
  }
 ],
 "metadata": {
  "kernelspec": {
   "display_name": "Python 3",
   "language": "python",
   "name": "python3"
  },
  "language_info": {
   "codemirror_mode": {
    "name": "ipython",
    "version": 3
   },
   "file_extension": ".py",
   "mimetype": "text/x-python",
   "name": "python",
   "nbconvert_exporter": "python",
   "pygments_lexer": "ipython3",
   "version": "3.9.13"
  }
 },
 "nbformat": 4,
 "nbformat_minor": 2
}
